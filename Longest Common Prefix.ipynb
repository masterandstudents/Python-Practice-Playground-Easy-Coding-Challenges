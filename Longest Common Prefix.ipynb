{
 "cells": [
  {
   "cell_type": "markdown",
   "id": "b5732b48",
   "metadata": {},
   "source": [
    "###### Longest Common Prefix"
   ]
  },
  {
   "cell_type": "markdown",
   "id": "a84b1bdb",
   "metadata": {},
   "source": [
    "Write a function to find the longest common prefix string amongst an array of strings.\n",
    "\n",
    "If there is no common prefix, return an empty string \"\".\n",
    "\n",
    " \n",
    "\n",
    "Example 1:\n",
    "\n",
    "Input: strs = [\"flower\",\"flow\",\"flight\"]\n",
    "Output: \"fl\"\n",
    "Example 2:\n",
    "\n",
    "Input: strs = [\"dog\",\"racecar\",\"car\"]\n",
    "Output: \"\"\n",
    "Explanation: There is no common prefix among the input strings.\n",
    " \n",
    "\n",
    "Constraints:\n",
    "\n",
    "1 <= strs.length <= 200\n",
    "0 <= strs[i].length <= 200\n",
    "strs[i] consists of only lowercase English letters."
   ]
  },
  {
   "cell_type": "code",
   "execution_count": null,
   "id": "767a6b72",
   "metadata": {},
   "outputs": [],
   "source": [
    "class Solution(object):\n",
    "    def longestCommonPrefix(self, strs):\n",
    "        if not strs:\n",
    "            return \"\"\n",
    "        strs.sort()\n",
    "        first_elements=strs[0]\n",
    "        last_elements=strs[-1]\n",
    "        common_prefix=\"\"\n",
    "        for finding_common_prefix in range(len(first_elements)):\n",
    "            if finding_common_prefix < len(last_elements) and first_elements[finding_common_prefix] == last_elements[finding_common_prefix]:\n",
    "                common_prefix+=first_elements[finding_common_prefix]\n",
    "            else:\n",
    "                break\n",
    "        return common_prefix"
   ]
  }
 ],
 "metadata": {
  "kernelspec": {
   "display_name": "Python 3 (ipykernel)",
   "language": "python",
   "name": "python3"
  },
  "language_info": {
   "codemirror_mode": {
    "name": "ipython",
    "version": 3
   },
   "file_extension": ".py",
   "mimetype": "text/x-python",
   "name": "python",
   "nbconvert_exporter": "python",
   "pygments_lexer": "ipython3",
   "version": "3.9.7"
  }
 },
 "nbformat": 4,
 "nbformat_minor": 5
}
