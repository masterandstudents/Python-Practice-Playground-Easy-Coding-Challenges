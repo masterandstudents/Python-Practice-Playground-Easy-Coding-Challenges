{
 "cells": [
  {
   "cell_type": "markdown",
   "id": "b19cc100",
   "metadata": {},
   "source": [
    "#### Merge Two Sorted Lists"
   ]
  },
  {
   "cell_type": "markdown",
   "id": "a173f107",
   "metadata": {},
   "source": [
    "You are given the heads of two sorted linked lists list1 and list2.\n",
    "\n",
    "Merge the two lists into one sorted list. The list should be made by splicing together the nodes of the first two lists.\n",
    "\n",
    "Return the head of the merged linked list.\n",
    "\n",
    " \n",
    "\n",
    "Example 1:\n",
    "\n",
    "\n",
    "Input: list1 = [1,2,4], list2 = [1,3,4]\n",
    "Output: [1,1,2,3,4,4]\n",
    "Example 2:\n",
    "\n",
    "Input: list1 = [], list2 = []\n",
    "Output: []\n",
    "Example 3:\n",
    "\n",
    "Input: list1 = [], list2 = [0]\n",
    "Output: [0]"
   ]
  },
  {
   "cell_type": "code",
   "execution_count": 29,
   "id": "a7592675",
   "metadata": {},
   "outputs": [],
   "source": [
    "class Solution():\n",
    "    def merge_Two_List(self,list1,list2):\n",
    "        mergedList=[]\n",
    "        \n",
    "        i,j = 0,0\n",
    "        while i < len(list1) and j < len(list2):\n",
    "            if list1[i] < list2[j]:\n",
    "                mergedList.append(list1[i])\n",
    "            else:\n",
    "                mergedList.append(list2[j])\n",
    "        \n",
    "        while i < len(list1):\n",
    "            mergedList.append(list1[i])\n",
    "            i+=1\n",
    "        \n",
    "        while j < len(list2):\n",
    "            mergedList.append(list2[j])\n",
    "            j+=1\n",
    "            \n",
    "        return mergedList"
   ]
  },
  {
   "cell_type": "code",
   "execution_count": null,
   "id": "b7d7c0ba",
   "metadata": {},
   "outputs": [],
   "source": []
  }
 ],
 "metadata": {
  "kernelspec": {
   "display_name": "Python 3 (ipykernel)",
   "language": "python",
   "name": "python3"
  },
  "language_info": {
   "codemirror_mode": {
    "name": "ipython",
    "version": 3
   },
   "file_extension": ".py",
   "mimetype": "text/x-python",
   "name": "python",
   "nbconvert_exporter": "python",
   "pygments_lexer": "ipython3",
   "version": "3.9.7"
  }
 },
 "nbformat": 4,
 "nbformat_minor": 5
}
