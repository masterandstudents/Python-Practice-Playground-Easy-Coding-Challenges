{
 "cells": [
  {
   "cell_type": "markdown",
   "id": "22dc3ef3",
   "metadata": {},
   "source": [
    "###### Palindrome Number"
   ]
  },
  {
   "cell_type": "markdown",
   "id": "1ea590cc",
   "metadata": {},
   "source": [
    "Given an integer x, return true if x is a \n",
    "palindrome\n",
    ", and false otherwise.\n",
    "\n",
    " \n",
    "\n",
    "Example 1:\n",
    "\n",
    "Input: x = 121\n",
    "Output: true\n",
    "Explanation: 121 reads as 121 from left to right and from right to left.\n",
    "Example 2:\n",
    "\n",
    "Input: x = -121\n",
    "Output: false\n",
    "Explanation: From left to right, it reads -121. From right to left, it becomes 121-. Therefore it is not a palindrome.\n",
    "Example 3:\n",
    "\n",
    "Input: x = 10\n",
    "Output: false\n",
    "Explanation: Reads 01 from right to left. Therefore it is not a palindrome.\n",
    " \n",
    "\n",
    "Constraints:\n",
    "\n",
    "-231 <= x <= 231 - 1"
   ]
  },
  {
   "cell_type": "code",
   "execution_count": 1,
   "id": "0d2cf357",
   "metadata": {},
   "outputs": [],
   "source": [
    "# Solution -->\n",
    "class Solution(object):\n",
    "    def isPalindrome(self, x):\n",
    "        left=0\n",
    "        right=len(str(x))-1\n",
    "        res=True\n",
    "        while left < right:\n",
    "            if str(x)[left] != str(x)[right]:\n",
    "                res=False\n",
    "                break\n",
    "            left+=1\n",
    "            right-=1\n",
    "        return res"
   ]
  },
  {
   "cell_type": "markdown",
   "id": "25489b4a",
   "metadata": {},
   "source": [
    "#### Follow up: Could you solve it without converting the integer to a string?"
   ]
  },
  {
   "cell_type": "code",
   "execution_count": null,
   "id": "6d6116a2",
   "metadata": {},
   "outputs": [],
   "source": [
    "class Solution(object):\n",
    "    def isPalindrome(self, x):\n",
    "        # Check if x is negative or ends with 0 (excluding the case where x is 0 itself)\n",
    "        if x < 0 or (x % 10 == 0 and x != 0):\n",
    "            return False\n",
    "        \n",
    "        # Initialize a variable to store the reversed second half of x\n",
    "        reversed_half = 0\n",
    "        \n",
    "        # Continue the loop until the second half is greater than the first half\n",
    "        while x > reversed_half:\n",
    "            # Extract the last digit of x and add it to the reversed_half\n",
    "            reversed_half = reversed_half * 10 + x % 10\n",
    "            \n",
    "            # Remove the last digit from x\n",
    "            x //= 10\n",
    "        \n",
    "        # For odd-length palindromes, we need to remove the last digit of reversed_half\n",
    "        return x == reversed_half or x == reversed_half // 10"
   ]
  },
  {
   "cell_type": "code",
   "execution_count": null,
   "id": "1c1668ee",
   "metadata": {},
   "outputs": [],
   "source": []
  }
 ],
 "metadata": {
  "kernelspec": {
   "display_name": "Python 3 (ipykernel)",
   "language": "python",
   "name": "python3"
  },
  "language_info": {
   "codemirror_mode": {
    "name": "ipython",
    "version": 3
   },
   "file_extension": ".py",
   "mimetype": "text/x-python",
   "name": "python",
   "nbconvert_exporter": "python",
   "pygments_lexer": "ipython3",
   "version": "3.9.7"
  }
 },
 "nbformat": 4,
 "nbformat_minor": 5
}
