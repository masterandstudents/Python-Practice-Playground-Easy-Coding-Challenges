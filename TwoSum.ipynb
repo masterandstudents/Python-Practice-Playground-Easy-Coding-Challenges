{
 "cells": [
  {
   "cell_type": "markdown",
   "id": "b748ab4a",
   "metadata": {},
   "source": [
    "# Given an array of integers nums and an integer target, return indices of the two numbers such that they add up to target.\n",
    "\n",
    "You may assume that each input would have exactly one solution, and you may not use the same element twice.\n",
    "You can return the answer in any order.\n",
    "\n",
    "\n",
    "Example 1:\n",
    "Input: nums = [2,7,11,15], target = 9\n",
    "Output: [0,1]\n",
    "Explanation: Because nums[0] + nums[1] == 9, we return [0, 1].\n",
    "\n",
    "Example 2:\n",
    "Input: nums = [3,2,4], target = 6\n",
    "Output: [1,2]\n",
    "    \n",
    "Example 3:\n",
    "Input: nums = [3,3], target = 6\n",
    "Output: [0,1]\n",
    "\n",
    "Constraints:\n",
    "\n",
    "2 <= nums.length <= 104\n",
    "-109 <= nums[i] <= 109\n",
    "-109 <= target <= 109\n",
    "Only one valid answer exists.\n",
    " \n",
    "\n",
    "Follow-up: Can you come up with an algorithm that is less than O(n2) time complexity?"
   ]
  },
  {
   "cell_type": "code",
   "execution_count": 2,
   "id": "4ca37c12",
   "metadata": {},
   "outputs": [],
   "source": [
    "nums = [2,7,11,15]\n",
    "target = 9"
   ]
  },
  {
   "cell_type": "code",
   "execution_count": 9,
   "id": "ec58cf50",
   "metadata": {},
   "outputs": [],
   "source": [
    "# for i in range(len(nums)):\n",
    "#     for j in nums:\n",
    "#         if nums[i] == j:\n",
    "#             continue\n",
    "#         if nums[i] + j == target:\n",
    "#             print(\"--->\",i,nums.index(j))\n",
    "\n",
    "# This might be your Solution which will cost O(n^2)"
   ]
  },
  {
   "cell_type": "code",
   "execution_count": 10,
   "id": "23d3d178",
   "metadata": {},
   "outputs": [],
   "source": [
    "# Now let Suppose you have do this in 0(n) then what will be your approach"
   ]
  },
  {
   "cell_type": "code",
   "execution_count": null,
   "id": "d2234258",
   "metadata": {},
   "outputs": [],
   "source": []
  }
 ],
 "metadata": {
  "kernelspec": {
   "display_name": "Python 3 (ipykernel)",
   "language": "python",
   "name": "python3"
  },
  "language_info": {
   "codemirror_mode": {
    "name": "ipython",
    "version": 3
   },
   "file_extension": ".py",
   "mimetype": "text/x-python",
   "name": "python",
   "nbconvert_exporter": "python",
   "pygments_lexer": "ipython3",
   "version": "3.9.7"
  }
 },
 "nbformat": 4,
 "nbformat_minor": 5
}
