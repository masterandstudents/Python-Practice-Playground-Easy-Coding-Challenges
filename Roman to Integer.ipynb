{
 "cells": [
  {
   "cell_type": "markdown",
   "id": "beb7783c",
   "metadata": {},
   "source": [
    "###### Roman to Integer"
   ]
  },
  {
   "cell_type": "code",
   "execution_count": null,
   "id": "2a24517a",
   "metadata": {},
   "outputs": [],
   "source": []
  },
  {
   "cell_type": "code",
   "execution_count": null,
   "id": "b417c7bf",
   "metadata": {},
   "outputs": [],
   "source": [
    "# Solution->\n",
    "class Solution(object):\n",
    "    def romanToInt(self, s):\n",
    "        roman_dict = {\n",
    "            'I': 1,\n",
    "            'V': 5,\n",
    "            'X': 10,\n",
    "            'L': 50,\n",
    "            'C': 100,\n",
    "            'D': 500,\n",
    "            'M': 1000,\n",
    "        }\n",
    "        index = 0\n",
    "        integer = 0\n",
    "        while index < len(s):\n",
    "            if index == len(s) - 1 or roman_dict[s[index]] >= roman_dict[s[index + 1]]:\n",
    "                integer += roman_dict[s[index]]\n",
    "                index += 1\n",
    "            else:\n",
    "                integer += roman_dict[s[index + 1]] - roman_dict[s[index]]\n",
    "                index += 2\n",
    "\n",
    "        return integer\n"
   ]
  }
 ],
 "metadata": {
  "kernelspec": {
   "display_name": "Python 3 (ipykernel)",
   "language": "python",
   "name": "python3"
  },
  "language_info": {
   "codemirror_mode": {
    "name": "ipython",
    "version": 3
   },
   "file_extension": ".py",
   "mimetype": "text/x-python",
   "name": "python",
   "nbconvert_exporter": "python",
   "pygments_lexer": "ipython3",
   "version": "3.9.7"
  }
 },
 "nbformat": 4,
 "nbformat_minor": 5
}
