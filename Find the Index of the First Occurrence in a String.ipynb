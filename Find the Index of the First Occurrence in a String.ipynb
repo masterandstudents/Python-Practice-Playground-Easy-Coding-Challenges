{
 "cells": [
  {
   "cell_type": "markdown",
   "id": "f77418a4",
   "metadata": {},
   "source": [
    "###### Find the Index of the First Occurrence in a String"
   ]
  },
  {
   "cell_type": "markdown",
   "id": "9fd4c78b",
   "metadata": {},
   "source": [
    "Given two strings needle and haystack, return the index of the first occurrence of needle in haystack, or -1 if needle is not part of haystack.\n",
    "\n",
    "Example 1:\n",
    "Input: haystack = \"sadbutsad\", needle = \"sad\"\n",
    "Output: 0\n",
    "Explanation: \"sad\" occurs at index 0 and 6.\n",
    "The first occurrence is at index 0, so we return 0.\n",
    "\n",
    "Example 2:\n",
    "Input: haystack = \"leetcode\", needle = \"leeto\"\n",
    "Output: -1\n",
    "Explanation: \"leeto\" did not occur in \"leetcode\", so we return -1.\n",
    " \n",
    "\n",
    "Constraints:\n",
    "\n",
    "1 <= haystack.length, needle.length <= 104\n",
    "haystack and needle consist of only lowercase English characters."
   ]
  },
  {
   "cell_type": "code",
   "execution_count": 66,
   "id": "bb26c25a",
   "metadata": {},
   "outputs": [],
   "source": [
    "class Solution(object):\n",
    "    def strStr(self,haystack, needle):\n",
    "    # Check if needle is an empty string\n",
    "        if not needle:\n",
    "            return 0\n",
    "    \n",
    "    # Check if needle is longer than haystack\n",
    "        if len(needle) > len(haystack):\n",
    "            return -1\n",
    "\n",
    "    # Iterate through the haystack string\n",
    "        for i in range(len(haystack) - len(needle) + 1):\n",
    "        # Check if the substring starting at index i matches the needle\n",
    "            if haystack[i:i+len(needle)] == needle:\n",
    "                return i\n",
    "    \n",
    "    # If no match is found, return -1\n",
    "        return -1"
   ]
  },
  {
   "cell_type": "code",
   "execution_count": 67,
   "id": "5e553d35",
   "metadata": {},
   "outputs": [],
   "source": [
    "# Follow Up give last index"
   ]
  }
 ],
 "metadata": {
  "kernelspec": {
   "display_name": "Python 3 (ipykernel)",
   "language": "python",
   "name": "python3"
  },
  "language_info": {
   "codemirror_mode": {
    "name": "ipython",
    "version": 3
   },
   "file_extension": ".py",
   "mimetype": "text/x-python",
   "name": "python",
   "nbconvert_exporter": "python",
   "pygments_lexer": "ipython3",
   "version": "3.9.7"
  }
 },
 "nbformat": 4,
 "nbformat_minor": 5
}
